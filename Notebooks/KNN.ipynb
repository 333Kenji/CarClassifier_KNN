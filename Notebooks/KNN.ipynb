{
 "cells": [
  {
   "cell_type": "code",
   "execution_count": 1,
   "id": "athletic-builder",
   "metadata": {},
   "outputs": [
    {
     "name": "stdout",
     "output_type": "stream",
     "text": [
      "/home/kenji/Projects/BasicProjects/KNN_CarClassifier\n"
     ]
    }
   ],
   "source": [
    "%cd /home/kenji/Projects/BasicProjects/KNN_CarClassifier"
   ]
  },
  {
   "cell_type": "code",
   "execution_count": 2,
   "id": "brilliant-platform",
   "metadata": {},
   "outputs": [],
   "source": [
    "import numpy as np\n",
    "import pandas as pd\n",
    "from sklearn.neighbors import KNeighborsClassifier\n",
    "from sklearn.preprocessing import LabelEncoder\n",
    "from sklearn.model_selection import train_test_split\n",
    "from sklearn.metrics import accuracy_score, recall_score, precision_score, f1_score\n",
    "import matplotlib.pyplot as plt\n",
    "import seaborn as sns\n",
    "from scipy.stats import pearsonr"
   ]
  },
  {
   "cell_type": "code",
   "execution_count": 3,
   "id": "happy-wiring",
   "metadata": {},
   "outputs": [],
   "source": [
    "## 1. Data\n",
    "### 1.1 Load Data\n",
    "data = pd.read_csv('Data/car.data')"
   ]
  },
  {
   "cell_type": "code",
   "execution_count": 64,
   "id": "consistent-tablet",
   "metadata": {},
   "outputs": [
    {
     "data": {
      "text/html": [
       "<div>\n",
       "<style scoped>\n",
       "    .dataframe tbody tr th:only-of-type {\n",
       "        vertical-align: middle;\n",
       "    }\n",
       "\n",
       "    .dataframe tbody tr th {\n",
       "        vertical-align: top;\n",
       "    }\n",
       "\n",
       "    .dataframe thead th {\n",
       "        text-align: right;\n",
       "    }\n",
       "</style>\n",
       "<table border=\"1\" class=\"dataframe\">\n",
       "  <thead>\n",
       "    <tr style=\"text-align: right;\">\n",
       "      <th></th>\n",
       "      <th>buying</th>\n",
       "      <th>maint</th>\n",
       "      <th>door</th>\n",
       "      <th>persons</th>\n",
       "      <th>lug_boot</th>\n",
       "      <th>safety</th>\n",
       "      <th>class</th>\n",
       "    </tr>\n",
       "  </thead>\n",
       "  <tbody>\n",
       "    <tr>\n",
       "      <th>0</th>\n",
       "      <td>vhigh</td>\n",
       "      <td>vhigh</td>\n",
       "      <td>2</td>\n",
       "      <td>2</td>\n",
       "      <td>small</td>\n",
       "      <td>low</td>\n",
       "      <td>unacc</td>\n",
       "    </tr>\n",
       "    <tr>\n",
       "      <th>1</th>\n",
       "      <td>vhigh</td>\n",
       "      <td>vhigh</td>\n",
       "      <td>2</td>\n",
       "      <td>2</td>\n",
       "      <td>small</td>\n",
       "      <td>med</td>\n",
       "      <td>unacc</td>\n",
       "    </tr>\n",
       "    <tr>\n",
       "      <th>2</th>\n",
       "      <td>vhigh</td>\n",
       "      <td>vhigh</td>\n",
       "      <td>2</td>\n",
       "      <td>2</td>\n",
       "      <td>small</td>\n",
       "      <td>high</td>\n",
       "      <td>unacc</td>\n",
       "    </tr>\n",
       "    <tr>\n",
       "      <th>3</th>\n",
       "      <td>vhigh</td>\n",
       "      <td>vhigh</td>\n",
       "      <td>2</td>\n",
       "      <td>2</td>\n",
       "      <td>med</td>\n",
       "      <td>low</td>\n",
       "      <td>unacc</td>\n",
       "    </tr>\n",
       "    <tr>\n",
       "      <th>4</th>\n",
       "      <td>vhigh</td>\n",
       "      <td>vhigh</td>\n",
       "      <td>2</td>\n",
       "      <td>2</td>\n",
       "      <td>med</td>\n",
       "      <td>med</td>\n",
       "      <td>unacc</td>\n",
       "    </tr>\n",
       "  </tbody>\n",
       "</table>\n",
       "</div>"
      ],
      "text/plain": [
       "  buying  maint door persons lug_boot safety  class\n",
       "0  vhigh  vhigh    2       2    small    low  unacc\n",
       "1  vhigh  vhigh    2       2    small    med  unacc\n",
       "2  vhigh  vhigh    2       2    small   high  unacc\n",
       "3  vhigh  vhigh    2       2      med    low  unacc\n",
       "4  vhigh  vhigh    2       2      med    med  unacc"
      ]
     },
     "execution_count": 64,
     "metadata": {},
     "output_type": "execute_result"
    }
   ],
   "source": [
    "### 1.2 Inspect Data\n",
    "data.head()"
   ]
  },
  {
   "cell_type": "code",
   "execution_count": 65,
   "id": "f0f77161",
   "metadata": {},
   "outputs": [
    {
     "name": "stdout",
     "output_type": "stream",
     "text": [
      "<class 'pandas.core.frame.DataFrame'>\n",
      "RangeIndex: 1728 entries, 0 to 1727\n",
      "Data columns (total 7 columns):\n",
      " #   Column    Non-Null Count  Dtype \n",
      "---  ------    --------------  ----- \n",
      " 0   buying    1728 non-null   object\n",
      " 1   maint     1728 non-null   object\n",
      " 2   door      1728 non-null   object\n",
      " 3   persons   1728 non-null   object\n",
      " 4   lug_boot  1728 non-null   object\n",
      " 5   safety    1728 non-null   object\n",
      " 6   class     1728 non-null   object\n",
      "dtypes: object(7)\n",
      "memory usage: 712.2 KB\n"
     ]
    }
   ],
   "source": [
    "data.info(memory_usage='deep')"
   ]
  },
  {
   "cell_type": "code",
   "execution_count": 66,
   "id": "5c711be7",
   "metadata": {},
   "outputs": [
    {
     "data": {
      "text/plain": [
       "(1728, 7)"
      ]
     },
     "execution_count": 66,
     "metadata": {},
     "output_type": "execute_result"
    }
   ],
   "source": [
    "data.shape"
   ]
  },
  {
   "cell_type": "code",
   "execution_count": 14,
   "id": "abb243bf",
   "metadata": {},
   "outputs": [
    {
     "name": "stdout",
     "output_type": "stream",
     "text": [
      "0\n",
      "Empty DataFrame\n",
      "Columns: [buying, maint, door, persons, lug_boot, safety, class]\n",
      "Index: []\n",
      "buying      0\n",
      "maint       0\n",
      "door        0\n",
      "persons     0\n",
      "lug_boot    0\n",
      "safety      0\n",
      "class       0\n",
      "dtype: int64\n"
     ]
    }
   ],
   "source": [
    "#check for dupes\n",
    "print(len(data[data.duplicated()]))\n",
    "\n",
    "#check for missing\n",
    "print(data[data.isnull().any(axis=1)])\n",
    "print(data.isna().sum())"
   ]
  },
  {
   "cell_type": "code",
   "execution_count": 16,
   "id": "79f34fe2",
   "metadata": {},
   "outputs": [
    {
     "data": {
      "text/plain": [
       "buying      object\n",
       "maint       object\n",
       "door        object\n",
       "persons     object\n",
       "lug_boot    object\n",
       "safety      object\n",
       "class       object\n",
       "dtype: object"
      ]
     },
     "execution_count": 16,
     "metadata": {},
     "output_type": "execute_result"
    }
   ],
   "source": [
    "data.dtypes"
   ]
  },
  {
   "cell_type": "code",
   "execution_count": 17,
   "id": "16b367a8",
   "metadata": {},
   "outputs": [
    {
     "data": {
      "text/plain": [
       "buying      4\n",
       "maint       4\n",
       "door        5\n",
       "persons     3\n",
       "lug_boot    3\n",
       "safety      3\n",
       "class       4\n",
       "dtype: int64"
      ]
     },
     "execution_count": 17,
     "metadata": {},
     "output_type": "execute_result"
    }
   ],
   "source": [
    "data.nunique()"
   ]
  },
  {
   "cell_type": "code",
   "execution_count": 18,
   "id": "825d55b5",
   "metadata": {},
   "outputs": [
    {
     "data": {
      "text/plain": [
       "Index(['buying', 'maint', 'door', 'persons', 'lug_boot', 'safety', 'class'], dtype='object')"
      ]
     },
     "execution_count": 18,
     "metadata": {},
     "output_type": "execute_result"
    }
   ],
   "source": [
    "#### 1.2.2 Inspect and Modify Columns\n",
    "data.columns\n",
    "# already formatted lower."
   ]
  },
  {
   "cell_type": "code",
   "execution_count": 48,
   "id": "fatty-hundred",
   "metadata": {},
   "outputs": [
    {
     "name": "stdout",
     "output_type": "stream",
     "text": [
      "med      432\n",
      "vhigh    432\n",
      "high     432\n",
      "low      432\n",
      "Name: buying, dtype: Int64\n",
      "med      432\n",
      "vhigh    432\n",
      "high     432\n",
      "low      432\n",
      "Name: maint, dtype: Int64\n",
      "2        432\n",
      "3        432\n",
      "4        432\n",
      "5more    405\n",
      "more      27\n",
      "Name: door, dtype: int64\n",
      "2       576\n",
      "4       576\n",
      "more    576\n",
      "Name: persons, dtype: int64\n",
      "med      576\n",
      "small    576\n",
      "big      576\n",
      "Name: lug_boot, dtype: Int64\n",
      "med     576\n",
      "high    576\n",
      "low     576\n",
      "Name: safety, dtype: Int64\n",
      "unacc    1210\n",
      "acc       384\n",
      "good       69\n",
      "vgood      65\n",
      "Name: class, dtype: Int64\n"
     ]
    }
   ],
   "source": [
    "for i in data.columns:\n",
    "    print(data[i].value_counts())\n"
   ]
  },
  {
   "cell_type": "code",
   "execution_count": 47,
   "id": "1b8347bc",
   "metadata": {},
   "outputs": [
    {
     "name": "stdout",
     "output_type": "stream",
     "text": [
      "buying\n",
      "<StringArray>\n",
      "['vhigh', 'high', 'med', 'low']\n",
      "Length: 4, dtype: string\n",
      "maint\n",
      "<StringArray>\n",
      "['vhigh', 'high', 'med', 'low']\n",
      "Length: 4, dtype: string\n",
      "door\n",
      "['2' '3' '4' '5more' 'more']\n",
      "persons\n",
      "['2' '4' 'more']\n",
      "lug_boot\n",
      "<StringArray>\n",
      "['small', 'med', 'big']\n",
      "Length: 3, dtype: string\n",
      "safety\n",
      "<StringArray>\n",
      "['low', 'med', 'high']\n",
      "Length: 3, dtype: string\n",
      "class\n",
      "<StringArray>\n",
      "['unacc', 'acc', 'vgood', 'good']\n",
      "Length: 4, dtype: string\n"
     ]
    }
   ],
   "source": [
    "for i in data.columns:\n",
    "    print(i)\n",
    "    print(data[i].unique())"
   ]
  },
  {
   "cell_type": "code",
   "execution_count": 25,
   "id": "63b54cff",
   "metadata": {},
   "outputs": [
    {
     "data": {
      "text/html": [
       "<div>\n",
       "<style scoped>\n",
       "    .dataframe tbody tr th:only-of-type {\n",
       "        vertical-align: middle;\n",
       "    }\n",
       "\n",
       "    .dataframe tbody tr th {\n",
       "        vertical-align: top;\n",
       "    }\n",
       "\n",
       "    .dataframe thead th {\n",
       "        text-align: right;\n",
       "    }\n",
       "</style>\n",
       "<table border=\"1\" class=\"dataframe\">\n",
       "  <thead>\n",
       "    <tr style=\"text-align: right;\">\n",
       "      <th></th>\n",
       "      <th>buying</th>\n",
       "      <th>maint</th>\n",
       "      <th>door</th>\n",
       "      <th>persons</th>\n",
       "      <th>lug_boot</th>\n",
       "      <th>safety</th>\n",
       "      <th>class</th>\n",
       "    </tr>\n",
       "  </thead>\n",
       "  <tbody>\n",
       "    <tr>\n",
       "      <th>0</th>\n",
       "      <td>vhigh</td>\n",
       "      <td>vhigh</td>\n",
       "      <td>2</td>\n",
       "      <td>2</td>\n",
       "      <td>small</td>\n",
       "      <td>low</td>\n",
       "      <td>unacc</td>\n",
       "    </tr>\n",
       "    <tr>\n",
       "      <th>1</th>\n",
       "      <td>vhigh</td>\n",
       "      <td>vhigh</td>\n",
       "      <td>2</td>\n",
       "      <td>2</td>\n",
       "      <td>small</td>\n",
       "      <td>med</td>\n",
       "      <td>unacc</td>\n",
       "    </tr>\n",
       "    <tr>\n",
       "      <th>2</th>\n",
       "      <td>vhigh</td>\n",
       "      <td>vhigh</td>\n",
       "      <td>2</td>\n",
       "      <td>2</td>\n",
       "      <td>small</td>\n",
       "      <td>high</td>\n",
       "      <td>unacc</td>\n",
       "    </tr>\n",
       "    <tr>\n",
       "      <th>3</th>\n",
       "      <td>vhigh</td>\n",
       "      <td>vhigh</td>\n",
       "      <td>2</td>\n",
       "      <td>2</td>\n",
       "      <td>med</td>\n",
       "      <td>low</td>\n",
       "      <td>unacc</td>\n",
       "    </tr>\n",
       "    <tr>\n",
       "      <th>4</th>\n",
       "      <td>vhigh</td>\n",
       "      <td>vhigh</td>\n",
       "      <td>2</td>\n",
       "      <td>2</td>\n",
       "      <td>med</td>\n",
       "      <td>med</td>\n",
       "      <td>unacc</td>\n",
       "    </tr>\n",
       "  </tbody>\n",
       "</table>\n",
       "</div>"
      ],
      "text/plain": [
       "  buying  maint door persons lug_boot safety  class\n",
       "0  vhigh  vhigh    2       2    small    low  unacc\n",
       "1  vhigh  vhigh    2       2    small    med  unacc\n",
       "2  vhigh  vhigh    2       2    small   high  unacc\n",
       "3  vhigh  vhigh    2       2      med    low  unacc\n",
       "4  vhigh  vhigh    2       2      med    med  unacc"
      ]
     },
     "execution_count": 25,
     "metadata": {},
     "output_type": "execute_result"
    }
   ],
   "source": [
    "data.head()\n",
    "# While door and persons appear to be numeric variables, they are in fact categorical. The rest are and can be treated as strings for possible processing optimization prior to being transformed."
   ]
  },
  {
   "cell_type": "code",
   "execution_count": 36,
   "id": "26034e88",
   "metadata": {},
   "outputs": [
    {
     "data": {
      "text/plain": [
       "2        432\n",
       "3        432\n",
       "4        432\n",
       "5more    405\n",
       "more      27\n",
       "Name: door, dtype: int64"
      ]
     },
     "execution_count": 36,
     "metadata": {},
     "output_type": "execute_result"
    }
   ],
   "source": [
    "data.door.value_counts()\n",
    "# note the clearly categorical values."
   ]
  },
  {
   "cell_type": "code",
   "execution_count": 38,
   "id": "4276f85a",
   "metadata": {},
   "outputs": [
    {
     "name": "stdout",
     "output_type": "stream",
     "text": [
      "<class 'pandas.core.frame.DataFrame'>\n",
      "RangeIndex: 1728 entries, 0 to 1727\n",
      "Data columns (total 7 columns):\n",
      " #   Column    Non-Null Count  Dtype \n",
      "---  ------    --------------  ----- \n",
      " 0   buying    1728 non-null   string\n",
      " 1   maint     1728 non-null   string\n",
      " 2   door      1728 non-null   object\n",
      " 3   persons   1728 non-null   object\n",
      " 4   lug_boot  1728 non-null   string\n",
      " 5   safety    1728 non-null   string\n",
      " 6   class     1728 non-null   string\n",
      "dtypes: object(2), string(5)\n",
      "memory usage: 712.2 KB\n"
     ]
    }
   ],
   "source": [
    "strings = ['buying','maint','lug_boot','safety','class']\n",
    "for i in strings:\n",
    "    data[i] = data[i].astype('string')\n",
    "\n",
    "data.info(memory_usage='deep')"
   ]
  },
  {
   "cell_type": "code",
   "execution_count": 42,
   "id": "04b45084",
   "metadata": {},
   "outputs": [
    {
     "data": {
      "text/html": [
       "<div>\n",
       "<style scoped>\n",
       "    .dataframe tbody tr th:only-of-type {\n",
       "        vertical-align: middle;\n",
       "    }\n",
       "\n",
       "    .dataframe tbody tr th {\n",
       "        vertical-align: top;\n",
       "    }\n",
       "\n",
       "    .dataframe thead th {\n",
       "        text-align: right;\n",
       "    }\n",
       "</style>\n",
       "<table border=\"1\" class=\"dataframe\">\n",
       "  <thead>\n",
       "    <tr style=\"text-align: right;\">\n",
       "      <th></th>\n",
       "      <th>buying</th>\n",
       "      <th>maint</th>\n",
       "      <th>door</th>\n",
       "      <th>persons</th>\n",
       "      <th>lug_boot</th>\n",
       "      <th>safety</th>\n",
       "      <th>class</th>\n",
       "    </tr>\n",
       "  </thead>\n",
       "  <tbody>\n",
       "    <tr>\n",
       "      <th>count</th>\n",
       "      <td>1728</td>\n",
       "      <td>1728</td>\n",
       "      <td>1728</td>\n",
       "      <td>1728</td>\n",
       "      <td>1728</td>\n",
       "      <td>1728</td>\n",
       "      <td>1728</td>\n",
       "    </tr>\n",
       "    <tr>\n",
       "      <th>unique</th>\n",
       "      <td>4</td>\n",
       "      <td>4</td>\n",
       "      <td>5</td>\n",
       "      <td>3</td>\n",
       "      <td>3</td>\n",
       "      <td>3</td>\n",
       "      <td>4</td>\n",
       "    </tr>\n",
       "    <tr>\n",
       "      <th>top</th>\n",
       "      <td>med</td>\n",
       "      <td>med</td>\n",
       "      <td>2</td>\n",
       "      <td>2</td>\n",
       "      <td>med</td>\n",
       "      <td>med</td>\n",
       "      <td>unacc</td>\n",
       "    </tr>\n",
       "    <tr>\n",
       "      <th>freq</th>\n",
       "      <td>432</td>\n",
       "      <td>432</td>\n",
       "      <td>432</td>\n",
       "      <td>576</td>\n",
       "      <td>576</td>\n",
       "      <td>576</td>\n",
       "      <td>1210</td>\n",
       "    </tr>\n",
       "  </tbody>\n",
       "</table>\n",
       "</div>"
      ],
      "text/plain": [
       "       buying maint  door persons lug_boot safety  class\n",
       "count    1728  1728  1728    1728     1728   1728   1728\n",
       "unique      4     4     5       3        3      3      4\n",
       "top       med   med     2       2      med    med  unacc\n",
       "freq      432   432   432     576      576    576   1210"
      ]
     },
     "execution_count": 42,
     "metadata": {},
     "output_type": "execute_result"
    }
   ],
   "source": [
    "### 1.3 EDA: Initial Summary Stats\n",
    "data.describe(include='all')"
   ]
  },
  {
   "cell_type": "code",
   "execution_count": 81,
   "id": "2d7ee0c7",
   "metadata": {},
   "outputs": [
    {
     "data": {
      "text/plain": [
       "unacc    1210\n",
       "acc       384\n",
       "good       69\n",
       "vgood      65\n",
       "Name: class, dtype: Int64"
      ]
     },
     "execution_count": 81,
     "metadata": {},
     "output_type": "execute_result"
    },
    {
     "data": {
      "image/png": "[encoded data removed]",
      "text/plain": [
       "<Figure size 432x288 with 1 Axes>"
      ]
     },
     "metadata": {
      "needs_background": "light"
     },
     "output_type": "display_data"
    }
   ],
   "source": [
    "### 1.4 EDA: Initial Visualization of Summary Stats\n",
    "sns.countplot(x=data['class'], order=['unacc', 'acc', 'good', 'vgood'])\n",
    "data['class'].value_counts()"
   ]
  },
  {
   "cell_type": "code",
   "execution_count": 80,
   "id": "51773f60",
   "metadata": {},
   "outputs": [
    {
     "data": {
      "text/plain": [
       "med      432\n",
       "vhigh    432\n",
       "high     432\n",
       "low      432\n",
       "Name: buying, dtype: Int64"
      ]
     },
     "execution_count": 80,
     "metadata": {},
     "output_type": "execute_result"
    },
    {
     "data": {
      "image/png": "[encoded data removed]",
      "text/plain": [
       "<Figure size 432x288 with 1 Axes>"
      ]
     },
     "metadata": {
      "needs_background": "light"
     },
     "output_type": "display_data"
    }
   ],
   "source": [
    "sns.countplot(x=data.buying, order=['low', 'med', 'high', 'vhigh'])\n",
    "data.buying.value_counts()\n"
   ]
  },
  {
   "cell_type": "code",
   "execution_count": 82,
   "id": "46586238",
   "metadata": {},
   "outputs": [
    {
     "data": {
      "text/plain": [
       "med      432\n",
       "vhigh    432\n",
       "high     432\n",
       "low      432\n",
       "Name: maint, dtype: Int64"
      ]
     },
     "execution_count": 82,
     "metadata": {},
     "output_type": "execute_result"
    },
    {
     "data": {
      "image/png": "[encoded data removed]",
      "text/plain": [
       "<Figure size 432x288 with 1 Axes>"
      ]
     },
     "metadata": {
      "needs_background": "light"
     },
     "output_type": "display_data"
    }
   ],
   "source": [
    "sns.countplot(x=data.maint, order=['low', 'med', 'high', 'vhigh'])\n",
    "data.maint.value_counts()"
   ]
  },
  {
   "cell_type": "code",
   "execution_count": 84,
   "id": "f7c938ea",
   "metadata": {},
   "outputs": [
    {
     "data": {
      "text/html": [
       "<div>\n",
       "<style scoped>\n",
       "    .dataframe tbody tr th:only-of-type {\n",
       "        vertical-align: middle;\n",
       "    }\n",
       "\n",
       "    .dataframe tbody tr th {\n",
       "        vertical-align: top;\n",
       "    }\n",
       "\n",
       "    .dataframe thead th {\n",
       "        text-align: right;\n",
       "    }\n",
       "</style>\n",
       "<table border=\"1\" class=\"dataframe\">\n",
       "  <thead>\n",
       "    <tr style=\"text-align: right;\">\n",
       "      <th></th>\n",
       "      <th>buying</th>\n",
       "      <th>maint</th>\n",
       "      <th>door</th>\n",
       "      <th>persons</th>\n",
       "      <th>lug_boot</th>\n",
       "      <th>safety</th>\n",
       "      <th>class</th>\n",
       "    </tr>\n",
       "  </thead>\n",
       "  <tbody>\n",
       "    <tr>\n",
       "      <th>0</th>\n",
       "      <td>vhigh</td>\n",
       "      <td>vhigh</td>\n",
       "      <td>2</td>\n",
       "      <td>2</td>\n",
       "      <td>small</td>\n",
       "      <td>low</td>\n",
       "      <td>unacc</td>\n",
       "    </tr>\n",
       "    <tr>\n",
       "      <th>1</th>\n",
       "      <td>vhigh</td>\n",
       "      <td>vhigh</td>\n",
       "      <td>2</td>\n",
       "      <td>2</td>\n",
       "      <td>small</td>\n",
       "      <td>med</td>\n",
       "      <td>unacc</td>\n",
       "    </tr>\n",
       "    <tr>\n",
       "      <th>2</th>\n",
       "      <td>vhigh</td>\n",
       "      <td>vhigh</td>\n",
       "      <td>2</td>\n",
       "      <td>2</td>\n",
       "      <td>small</td>\n",
       "      <td>high</td>\n",
       "      <td>unacc</td>\n",
       "    </tr>\n",
       "    <tr>\n",
       "      <th>3</th>\n",
       "      <td>vhigh</td>\n",
       "      <td>vhigh</td>\n",
       "      <td>2</td>\n",
       "      <td>2</td>\n",
       "      <td>med</td>\n",
       "      <td>low</td>\n",
       "      <td>unacc</td>\n",
       "    </tr>\n",
       "    <tr>\n",
       "      <th>4</th>\n",
       "      <td>vhigh</td>\n",
       "      <td>vhigh</td>\n",
       "      <td>2</td>\n",
       "      <td>2</td>\n",
       "      <td>med</td>\n",
       "      <td>med</td>\n",
       "      <td>unacc</td>\n",
       "    </tr>\n",
       "    <tr>\n",
       "      <th>...</th>\n",
       "      <td>...</td>\n",
       "      <td>...</td>\n",
       "      <td>...</td>\n",
       "      <td>...</td>\n",
       "      <td>...</td>\n",
       "      <td>...</td>\n",
       "      <td>...</td>\n",
       "    </tr>\n",
       "    <tr>\n",
       "      <th>427</th>\n",
       "      <td>vhigh</td>\n",
       "      <td>low</td>\n",
       "      <td>5more</td>\n",
       "      <td>more</td>\n",
       "      <td>med</td>\n",
       "      <td>med</td>\n",
       "      <td>acc</td>\n",
       "    </tr>\n",
       "    <tr>\n",
       "      <th>428</th>\n",
       "      <td>vhigh</td>\n",
       "      <td>low</td>\n",
       "      <td>5more</td>\n",
       "      <td>more</td>\n",
       "      <td>med</td>\n",
       "      <td>high</td>\n",
       "      <td>acc</td>\n",
       "    </tr>\n",
       "    <tr>\n",
       "      <th>429</th>\n",
       "      <td>vhigh</td>\n",
       "      <td>low</td>\n",
       "      <td>5more</td>\n",
       "      <td>more</td>\n",
       "      <td>big</td>\n",
       "      <td>low</td>\n",
       "      <td>unacc</td>\n",
       "    </tr>\n",
       "    <tr>\n",
       "      <th>430</th>\n",
       "      <td>vhigh</td>\n",
       "      <td>low</td>\n",
       "      <td>5more</td>\n",
       "      <td>more</td>\n",
       "      <td>big</td>\n",
       "      <td>med</td>\n",
       "      <td>acc</td>\n",
       "    </tr>\n",
       "    <tr>\n",
       "      <th>431</th>\n",
       "      <td>vhigh</td>\n",
       "      <td>low</td>\n",
       "      <td>5more</td>\n",
       "      <td>more</td>\n",
       "      <td>big</td>\n",
       "      <td>high</td>\n",
       "      <td>acc</td>\n",
       "    </tr>\n",
       "  </tbody>\n",
       "</table>\n",
       "<p>432 rows × 7 columns</p>\n",
       "</div>"
      ],
      "text/plain": [
       "    buying  maint   door persons lug_boot safety  class\n",
       "0    vhigh  vhigh      2       2    small    low  unacc\n",
       "1    vhigh  vhigh      2       2    small    med  unacc\n",
       "2    vhigh  vhigh      2       2    small   high  unacc\n",
       "3    vhigh  vhigh      2       2      med    low  unacc\n",
       "4    vhigh  vhigh      2       2      med    med  unacc\n",
       "..     ...    ...    ...     ...      ...    ...    ...\n",
       "427  vhigh    low  5more    more      med    med    acc\n",
       "428  vhigh    low  5more    more      med   high    acc\n",
       "429  vhigh    low  5more    more      big    low  unacc\n",
       "430  vhigh    low  5more    more      big    med    acc\n",
       "431  vhigh    low  5more    more      big   high    acc\n",
       "\n",
       "[432 rows x 7 columns]"
      ]
     },
     "execution_count": 84,
     "metadata": {},
     "output_type": "execute_result"
    }
   ],
   "source": [
    "data[data.buying == 'vhigh']\n",
    "# It appears that the data is evenly split in four n at least two variables.\n",
    "# Checking below, we see that the overlap is not perfect; where 'buying' equals 'vhigh' doesn't necessarily correlate to where 'maint' equals 'vhgh' or 'low'."
   ]
  },
  {
   "cell_type": "code",
   "execution_count": 87,
   "id": "d6e7d247",
   "metadata": {},
   "outputs": [
    {
     "data": {
      "text/plain": [
       "2        432\n",
       "3        432\n",
       "4        432\n",
       "5more    405\n",
       "more      27\n",
       "Name: door, dtype: int64"
      ]
     },
     "execution_count": 87,
     "metadata": {},
     "output_type": "execute_result"
    },
    {
     "data": {
      "image/png": "[encoded data removed]",
      "text/plain": [
       "<Figure size 432x288 with 1 Axes>"
      ]
     },
     "metadata": {
      "needs_background": "light"
     },
     "output_type": "display_data"
    }
   ],
   "source": [
    "sns.countplot(x=data.door, order=['2', '3', '4', '5more','more'])\n",
    "data.door.value_counts()\n",
    "# again a split, however '5more' has been slightly reduced for a fifth value, 'more'."
   ]
  },
  {
   "cell_type": "code",
   "execution_count": 89,
   "metadata": {},
   "outputs": [
    {
     "data": {
      "text/plain": [
       "2       576\n",
       "4       576\n",
       "more    576\n",
       "Name: persons, dtype: int64"
      ]
     },
     "execution_count": 89,
     "metadata": {},
     "output_type": "execute_result"
    },
    {
     "data": {
      "image/png": "[encoded data removed]",
      "text/plain": [
       "<Figure size 432x288 with 1 Axes>"
      ]
     },
     "metadata": {
      "needs_background": "light"
     },
     "output_type": "display_data"
    }
   ],
   "source": [
    "sns.countplot(x=data.persons, order=['2', '4', 'more'])\n",
    "data.persons.value_counts()"
   ]
  },
  {
   "cell_type": "code",
   "execution_count": 91,
   "id": "c1db9503",
   "metadata": {},
   "outputs": [
    {
     "data": {
      "text/plain": [
       "med      576\n",
       "small    576\n",
       "big      576\n",
       "Name: lug_boot, dtype: Int64"
      ]
     },
     "execution_count": 91,
     "metadata": {},
     "output_type": "execute_result"
    },
    {
     "data": {
      "image/png": "[encoded data removed]",
      "text/plain": [
       "<Figure size 432x288 with 1 Axes>"
      ]
     },
     "metadata": {
      "needs_background": "light"
     },
     "output_type": "display_data"
    }
   ],
   "source": [
    "sns.countplot(x=data.lug_boot, order=['small', 'med', 'big'])\n",
    "data.lug_boot.value_counts()"
   ]
  },
  {
   "cell_type": "code",
   "execution_count": 93,
   "id": "0efe42f5",
   "metadata": {},
   "outputs": [
    {
     "data": {
      "text/plain": [
       "med     576\n",
       "high    576\n",
       "low     576\n",
       "Name: safety, dtype: Int64"
      ]
     },
     "execution_count": 93,
     "metadata": {},
     "output_type": "execute_result"
    },
    {
     "data": {
      "image/png": "[encoded data removed]",
      "text/plain": [
       "<Figure size 432x288 with 1 Axes>"
      ]
     },
     "metadata": {
      "needs_background": "light"
     },
     "output_type": "display_data"
    }
   ],
   "source": [
    "sns.countplot(x=data.safety, order=['low', 'med', 'high'])\n",
    "data.safety.value_counts()"
   ]
  },
  {
   "cell_type": "code",
   "execution_count": null,
   "id": "blank-authentication",
   "metadata": {},
   "outputs": [],
   "source": [
    "## 2. Preprocessing"
   ]
  },
  {
   "cell_type": "code",
   "execution_count": 100,
   "id": "mature-transport",
   "metadata": {},
   "outputs": [
    {
     "name": "stdout",
     "output_type": "stream",
     "text": [
      "<class 'pandas.core.frame.DataFrame'>\n",
      "RangeIndex: 1728 entries, 0 to 1727\n",
      "Data columns (total 7 columns):\n",
      " #   Column    Non-Null Count  Dtype \n",
      "---  ------    --------------  ----- \n",
      " 0   buying    1728 non-null   string\n",
      " 1   maint     1728 non-null   string\n",
      " 2   door      1728 non-null   object\n",
      " 3   persons   1728 non-null   object\n",
      " 4   lug_boot  1728 non-null   string\n",
      " 5   safety    1728 non-null   string\n",
      " 6   class     1728 non-null   string\n",
      "dtypes: object(2), string(5)\n",
      "memory usage: 712.2 KB\n"
     ]
    },
    {
     "data": {
      "text/html": [
       "<div>\n",
       "<style scoped>\n",
       "    .dataframe tbody tr th:only-of-type {\n",
       "        vertical-align: middle;\n",
       "    }\n",
       "\n",
       "    .dataframe tbody tr th {\n",
       "        vertical-align: top;\n",
       "    }\n",
       "\n",
       "    .dataframe thead th {\n",
       "        text-align: right;\n",
       "    }\n",
       "</style>\n",
       "<table border=\"1\" class=\"dataframe\">\n",
       "  <thead>\n",
       "    <tr style=\"text-align: right;\">\n",
       "      <th></th>\n",
       "      <th>buying</th>\n",
       "      <th>maint</th>\n",
       "      <th>door</th>\n",
       "      <th>persons</th>\n",
       "      <th>lug_boot</th>\n",
       "      <th>safety</th>\n",
       "      <th>class</th>\n",
       "    </tr>\n",
       "  </thead>\n",
       "  <tbody>\n",
       "    <tr>\n",
       "      <th>0</th>\n",
       "      <td>vhigh</td>\n",
       "      <td>vhigh</td>\n",
       "      <td>2</td>\n",
       "      <td>2</td>\n",
       "      <td>small</td>\n",
       "      <td>low</td>\n",
       "      <td>unacc</td>\n",
       "    </tr>\n",
       "    <tr>\n",
       "      <th>1</th>\n",
       "      <td>vhigh</td>\n",
       "      <td>vhigh</td>\n",
       "      <td>2</td>\n",
       "      <td>2</td>\n",
       "      <td>small</td>\n",
       "      <td>med</td>\n",
       "      <td>unacc</td>\n",
       "    </tr>\n",
       "    <tr>\n",
       "      <th>2</th>\n",
       "      <td>vhigh</td>\n",
       "      <td>vhigh</td>\n",
       "      <td>2</td>\n",
       "      <td>2</td>\n",
       "      <td>small</td>\n",
       "      <td>high</td>\n",
       "      <td>unacc</td>\n",
       "    </tr>\n",
       "    <tr>\n",
       "      <th>3</th>\n",
       "      <td>vhigh</td>\n",
       "      <td>vhigh</td>\n",
       "      <td>2</td>\n",
       "      <td>2</td>\n",
       "      <td>med</td>\n",
       "      <td>low</td>\n",
       "      <td>unacc</td>\n",
       "    </tr>\n",
       "    <tr>\n",
       "      <th>4</th>\n",
       "      <td>vhigh</td>\n",
       "      <td>vhigh</td>\n",
       "      <td>2</td>\n",
       "      <td>2</td>\n",
       "      <td>med</td>\n",
       "      <td>med</td>\n",
       "      <td>unacc</td>\n",
       "    </tr>\n",
       "  </tbody>\n",
       "</table>\n",
       "</div>"
      ],
      "text/plain": [
       "  buying  maint door persons lug_boot safety  class\n",
       "0  vhigh  vhigh    2       2    small    low  unacc\n",
       "1  vhigh  vhigh    2       2    small    med  unacc\n",
       "2  vhigh  vhigh    2       2    small   high  unacc\n",
       "3  vhigh  vhigh    2       2      med    low  unacc\n",
       "4  vhigh  vhigh    2       2      med    med  unacc"
      ]
     },
     "execution_count": 100,
     "metadata": {},
     "output_type": "execute_result"
    }
   ],
   "source": [
    "### 2.1 Reinspect Data\n",
    "data.info(memory_usage='deep')\n",
    "data.head()"
   ]
  },
  {
   "cell_type": "code",
   "execution_count": 109,
   "id": "sharp-potter",
   "metadata": {},
   "outputs": [],
   "source": [
    "### 2.2 Diagnose Data\n",
    "# This data is extremely clean, which is great for a simple project. ALthough the mostly even splits throughout the data are initially concerning, there doesn't seem to be any significant overlap, at this time.\n",
    "#TODO chi square!"
   ]
  },
  {
   "cell_type": "code",
   "execution_count": 110,
   "id": "ideal-artwork",
   "metadata": {},
   "outputs": [],
   "source": [
    "### 2.3 Data Wrangling"
   ]
  },
  {
   "cell_type": "code",
   "execution_count": 76,
   "id": "hollow-pressing",
   "metadata": {},
   "outputs": [],
   "source": [
    "## 2.3. Data Transformation\n",
    "encoder = LabelEncoder()\n",
    "for i in data.columns:\n",
    "    data[i] = encoder.fit_transform(data[i])\n",
    "#data.reset_index(inplace=True)\n",
    "    "
   ]
  },
  {
   "cell_type": "code",
   "execution_count": 77,
   "id": "guilty-april",
   "metadata": {},
   "outputs": [
    {
     "data": {
      "text/html": [
       "<div>\n",
       "<style scoped>\n",
       "    .dataframe tbody tr th:only-of-type {\n",
       "        vertical-align: middle;\n",
       "    }\n",
       "\n",
       "    .dataframe tbody tr th {\n",
       "        vertical-align: top;\n",
       "    }\n",
       "\n",
       "    .dataframe thead th {\n",
       "        text-align: right;\n",
       "    }\n",
       "</style>\n",
       "<table border=\"1\" class=\"dataframe\">\n",
       "  <thead>\n",
       "    <tr style=\"text-align: right;\">\n",
       "      <th></th>\n",
       "      <th>buying</th>\n",
       "      <th>maint</th>\n",
       "      <th>door</th>\n",
       "      <th>persons</th>\n",
       "      <th>lug_boot</th>\n",
       "      <th>safety</th>\n",
       "      <th>class</th>\n",
       "    </tr>\n",
       "  </thead>\n",
       "  <tbody>\n",
       "    <tr>\n",
       "      <th>0</th>\n",
       "      <td>3</td>\n",
       "      <td>3</td>\n",
       "      <td>0</td>\n",
       "      <td>0</td>\n",
       "      <td>2</td>\n",
       "      <td>1</td>\n",
       "      <td>2</td>\n",
       "    </tr>\n",
       "    <tr>\n",
       "      <th>1</th>\n",
       "      <td>3</td>\n",
       "      <td>3</td>\n",
       "      <td>0</td>\n",
       "      <td>0</td>\n",
       "      <td>2</td>\n",
       "      <td>2</td>\n",
       "      <td>2</td>\n",
       "    </tr>\n",
       "    <tr>\n",
       "      <th>2</th>\n",
       "      <td>3</td>\n",
       "      <td>3</td>\n",
       "      <td>0</td>\n",
       "      <td>0</td>\n",
       "      <td>2</td>\n",
       "      <td>0</td>\n",
       "      <td>2</td>\n",
       "    </tr>\n",
       "    <tr>\n",
       "      <th>3</th>\n",
       "      <td>3</td>\n",
       "      <td>3</td>\n",
       "      <td>0</td>\n",
       "      <td>0</td>\n",
       "      <td>1</td>\n",
       "      <td>1</td>\n",
       "      <td>2</td>\n",
       "    </tr>\n",
       "    <tr>\n",
       "      <th>4</th>\n",
       "      <td>3</td>\n",
       "      <td>3</td>\n",
       "      <td>0</td>\n",
       "      <td>0</td>\n",
       "      <td>1</td>\n",
       "      <td>2</td>\n",
       "      <td>2</td>\n",
       "    </tr>\n",
       "    <tr>\n",
       "      <th>...</th>\n",
       "      <td>...</td>\n",
       "      <td>...</td>\n",
       "      <td>...</td>\n",
       "      <td>...</td>\n",
       "      <td>...</td>\n",
       "      <td>...</td>\n",
       "      <td>...</td>\n",
       "    </tr>\n",
       "    <tr>\n",
       "      <th>1723</th>\n",
       "      <td>1</td>\n",
       "      <td>1</td>\n",
       "      <td>3</td>\n",
       "      <td>2</td>\n",
       "      <td>1</td>\n",
       "      <td>2</td>\n",
       "      <td>1</td>\n",
       "    </tr>\n",
       "    <tr>\n",
       "      <th>1724</th>\n",
       "      <td>1</td>\n",
       "      <td>1</td>\n",
       "      <td>3</td>\n",
       "      <td>2</td>\n",
       "      <td>1</td>\n",
       "      <td>0</td>\n",
       "      <td>3</td>\n",
       "    </tr>\n",
       "    <tr>\n",
       "      <th>1725</th>\n",
       "      <td>1</td>\n",
       "      <td>1</td>\n",
       "      <td>3</td>\n",
       "      <td>2</td>\n",
       "      <td>0</td>\n",
       "      <td>1</td>\n",
       "      <td>2</td>\n",
       "    </tr>\n",
       "    <tr>\n",
       "      <th>1726</th>\n",
       "      <td>1</td>\n",
       "      <td>1</td>\n",
       "      <td>3</td>\n",
       "      <td>2</td>\n",
       "      <td>0</td>\n",
       "      <td>2</td>\n",
       "      <td>1</td>\n",
       "    </tr>\n",
       "    <tr>\n",
       "      <th>1727</th>\n",
       "      <td>1</td>\n",
       "      <td>1</td>\n",
       "      <td>3</td>\n",
       "      <td>2</td>\n",
       "      <td>0</td>\n",
       "      <td>0</td>\n",
       "      <td>3</td>\n",
       "    </tr>\n",
       "  </tbody>\n",
       "</table>\n",
       "<p>1728 rows × 7 columns</p>\n",
       "</div>"
      ],
      "text/plain": [
       "      buying  maint  door  persons  lug_boot  safety  class\n",
       "0          3      3     0        0         2       1      2\n",
       "1          3      3     0        0         2       2      2\n",
       "2          3      3     0        0         2       0      2\n",
       "3          3      3     0        0         1       1      2\n",
       "4          3      3     0        0         1       2      2\n",
       "...      ...    ...   ...      ...       ...     ...    ...\n",
       "1723       1      1     3        2         1       2      1\n",
       "1724       1      1     3        2         1       0      3\n",
       "1725       1      1     3        2         0       1      2\n",
       "1726       1      1     3        2         0       2      1\n",
       "1727       1      1     3        2         0       0      3\n",
       "\n",
       "[1728 rows x 7 columns]"
      ]
     },
     "execution_count": 77,
     "metadata": {},
     "output_type": "execute_result"
    }
   ],
   "source": [
    "data"
   ]
  },
  {
   "cell_type": "code",
   "execution_count": 78,
   "id": "bc4e5021",
   "metadata": {},
   "outputs": [
    {
     "data": {
      "image/png": "[encoded data removed]",
      "text/plain": [
       "<Figure size 432x288 with 1 Axes>"
      ]
     },
     "metadata": {
      "needs_background": "light"
     },
     "output_type": "display_data"
    },
    {
     "data": {
      "image/png": "[encoded data removed]",
      "text/plain": [
       "<Figure size 432x288 with 1 Axes>"
      ]
     },
     "metadata": {
      "needs_background": "light"
     },
     "output_type": "display_data"
    },
    {
     "data": {
      "image/png": "[encoded data removed]",
      "text/plain": [
       "<Figure size 432x288 with 1 Axes>"
      ]
     },
     "metadata": {
      "needs_background": "light"
     },
     "output_type": "display_data"
    },
    {
     "data": {
      "image/png": "[encoded data removed]",
      "text/plain": [
       "<Figure size 432x288 with 1 Axes>"
      ]
     },
     "metadata": {
      "needs_background": "light"
     },
     "output_type": "display_data"
    },
    {
     "data": {
      "image/png": "[encoded data removed]",
      "text/plain": [
       "<Figure size 432x288 with 1 Axes>"
      ]
     },
     "metadata": {
      "needs_background": "light"
     },
     "output_type": "display_data"
    },
    {
     "data": {
      "image/png": "[encoded data removed]",
      "text/plain": [
       "<Figure size 432x288 with 1 Axes>"
      ]
     },
     "metadata": {
      "needs_background": "light"
     },
     "output_type": "display_data"
    },
    {
     "data": {
      "image/png": "[encoded data removed]",
      "text/plain": [
       "<Figure size 432x288 with 1 Axes>"
      ]
     },
     "metadata": {
      "needs_background": "light"
     },
     "output_type": "display_data"
    }
   ],
   "source": [
    "for i in data.columns:\n",
    "    ax = sns.histplot(data, x =i)\n",
    "    plt.show()"
   ]
  },
  {
   "cell_type": "code",
   "execution_count": 82,
   "id": "92dd4a4f",
   "metadata": {},
   "outputs": [],
   "source": [
    "from sklearn.preprocessing import StandardScaler\n",
    "# standardize data\n",
    "scaler = StandardScaler()\n",
    "standardized_data = scaler.fit_transform(data)\n",
    "\n",
    "scaled_features_df = pd.DataFrame(standardized_data, index=data.index, columns=data.columns)"
   ]
  },
  {
   "cell_type": "code",
   "execution_count": 83,
   "id": "2e13f6b3",
   "metadata": {},
   "outputs": [
    {
     "data": {
      "text/html": [
       "<div>\n",
       "<style scoped>\n",
       "    .dataframe tbody tr th:only-of-type {\n",
       "        vertical-align: middle;\n",
       "    }\n",
       "\n",
       "    .dataframe tbody tr th {\n",
       "        vertical-align: top;\n",
       "    }\n",
       "\n",
       "    .dataframe thead th {\n",
       "        text-align: right;\n",
       "    }\n",
       "</style>\n",
       "<table border=\"1\" class=\"dataframe\">\n",
       "  <thead>\n",
       "    <tr style=\"text-align: right;\">\n",
       "      <th></th>\n",
       "      <th>buying</th>\n",
       "      <th>maint</th>\n",
       "      <th>door</th>\n",
       "      <th>persons</th>\n",
       "      <th>lug_boot</th>\n",
       "      <th>safety</th>\n",
       "      <th>class</th>\n",
       "    </tr>\n",
       "  </thead>\n",
       "  <tbody>\n",
       "    <tr>\n",
       "      <th>0</th>\n",
       "      <td>1.341641</td>\n",
       "      <td>1.341641</td>\n",
       "      <td>-1.323069</td>\n",
       "      <td>-1.224745</td>\n",
       "      <td>1.224745</td>\n",
       "      <td>0.000000</td>\n",
       "      <td>0.510177</td>\n",
       "    </tr>\n",
       "    <tr>\n",
       "      <th>1</th>\n",
       "      <td>1.341641</td>\n",
       "      <td>1.341641</td>\n",
       "      <td>-1.323069</td>\n",
       "      <td>-1.224745</td>\n",
       "      <td>1.224745</td>\n",
       "      <td>1.224745</td>\n",
       "      <td>0.510177</td>\n",
       "    </tr>\n",
       "    <tr>\n",
       "      <th>2</th>\n",
       "      <td>1.341641</td>\n",
       "      <td>1.341641</td>\n",
       "      <td>-1.323069</td>\n",
       "      <td>-1.224745</td>\n",
       "      <td>1.224745</td>\n",
       "      <td>-1.224745</td>\n",
       "      <td>0.510177</td>\n",
       "    </tr>\n",
       "    <tr>\n",
       "      <th>3</th>\n",
       "      <td>1.341641</td>\n",
       "      <td>1.341641</td>\n",
       "      <td>-1.323069</td>\n",
       "      <td>-1.224745</td>\n",
       "      <td>0.000000</td>\n",
       "      <td>0.000000</td>\n",
       "      <td>0.510177</td>\n",
       "    </tr>\n",
       "    <tr>\n",
       "      <th>4</th>\n",
       "      <td>1.341641</td>\n",
       "      <td>1.341641</td>\n",
       "      <td>-1.323069</td>\n",
       "      <td>-1.224745</td>\n",
       "      <td>0.000000</td>\n",
       "      <td>1.224745</td>\n",
       "      <td>0.510177</td>\n",
       "    </tr>\n",
       "    <tr>\n",
       "      <th>...</th>\n",
       "      <td>...</td>\n",
       "      <td>...</td>\n",
       "      <td>...</td>\n",
       "      <td>...</td>\n",
       "      <td>...</td>\n",
       "      <td>...</td>\n",
       "      <td>...</td>\n",
       "    </tr>\n",
       "    <tr>\n",
       "      <th>1723</th>\n",
       "      <td>-0.447214</td>\n",
       "      <td>-0.447214</td>\n",
       "      <td>1.295789</td>\n",
       "      <td>1.224745</td>\n",
       "      <td>0.000000</td>\n",
       "      <td>1.224745</td>\n",
       "      <td>-0.631773</td>\n",
       "    </tr>\n",
       "    <tr>\n",
       "      <th>1724</th>\n",
       "      <td>-0.447214</td>\n",
       "      <td>-0.447214</td>\n",
       "      <td>1.295789</td>\n",
       "      <td>1.224745</td>\n",
       "      <td>0.000000</td>\n",
       "      <td>-1.224745</td>\n",
       "      <td>1.652127</td>\n",
       "    </tr>\n",
       "    <tr>\n",
       "      <th>1725</th>\n",
       "      <td>-0.447214</td>\n",
       "      <td>-0.447214</td>\n",
       "      <td>1.295789</td>\n",
       "      <td>1.224745</td>\n",
       "      <td>-1.224745</td>\n",
       "      <td>0.000000</td>\n",
       "      <td>0.510177</td>\n",
       "    </tr>\n",
       "    <tr>\n",
       "      <th>1726</th>\n",
       "      <td>-0.447214</td>\n",
       "      <td>-0.447214</td>\n",
       "      <td>1.295789</td>\n",
       "      <td>1.224745</td>\n",
       "      <td>-1.224745</td>\n",
       "      <td>1.224745</td>\n",
       "      <td>-0.631773</td>\n",
       "    </tr>\n",
       "    <tr>\n",
       "      <th>1727</th>\n",
       "      <td>-0.447214</td>\n",
       "      <td>-0.447214</td>\n",
       "      <td>1.295789</td>\n",
       "      <td>1.224745</td>\n",
       "      <td>-1.224745</td>\n",
       "      <td>-1.224745</td>\n",
       "      <td>1.652127</td>\n",
       "    </tr>\n",
       "  </tbody>\n",
       "</table>\n",
       "<p>1728 rows × 7 columns</p>\n",
       "</div>"
      ],
      "text/plain": [
       "        buying     maint      door   persons  lug_boot    safety     class\n",
       "0     1.341641  1.341641 -1.323069 -1.224745  1.224745  0.000000  0.510177\n",
       "1     1.341641  1.341641 -1.323069 -1.224745  1.224745  1.224745  0.510177\n",
       "2     1.341641  1.341641 -1.323069 -1.224745  1.224745 -1.224745  0.510177\n",
       "3     1.341641  1.341641 -1.323069 -1.224745  0.000000  0.000000  0.510177\n",
       "4     1.341641  1.341641 -1.323069 -1.224745  0.000000  1.224745  0.510177\n",
       "...        ...       ...       ...       ...       ...       ...       ...\n",
       "1723 -0.447214 -0.447214  1.295789  1.224745  0.000000  1.224745 -0.631773\n",
       "1724 -0.447214 -0.447214  1.295789  1.224745  0.000000 -1.224745  1.652127\n",
       "1725 -0.447214 -0.447214  1.295789  1.224745 -1.224745  0.000000  0.510177\n",
       "1726 -0.447214 -0.447214  1.295789  1.224745 -1.224745  1.224745 -0.631773\n",
       "1727 -0.447214 -0.447214  1.295789  1.224745 -1.224745 -1.224745  1.652127\n",
       "\n",
       "[1728 rows x 7 columns]"
      ]
     },
     "execution_count": 83,
     "metadata": {},
     "output_type": "execute_result"
    }
   ],
   "source": [
    "scaled_features_df"
   ]
  },
  {
   "cell_type": "code",
   "execution_count": 85,
   "id": "745a4d24",
   "metadata": {},
   "outputs": [
    {
     "data": {
      "text/html": [
       "<div>\n",
       "<style scoped>\n",
       "    .dataframe tbody tr th:only-of-type {\n",
       "        vertical-align: middle;\n",
       "    }\n",
       "\n",
       "    .dataframe tbody tr th {\n",
       "        vertical-align: top;\n",
       "    }\n",
       "\n",
       "    .dataframe thead th {\n",
       "        text-align: right;\n",
       "    }\n",
       "</style>\n",
       "<table border=\"1\" class=\"dataframe\">\n",
       "  <thead>\n",
       "    <tr style=\"text-align: right;\">\n",
       "      <th></th>\n",
       "      <th>buying</th>\n",
       "      <th>maint</th>\n",
       "      <th>door</th>\n",
       "      <th>persons</th>\n",
       "      <th>lug_boot</th>\n",
       "      <th>safety</th>\n",
       "      <th>class</th>\n",
       "    </tr>\n",
       "  </thead>\n",
       "  <tbody>\n",
       "    <tr>\n",
       "      <th>count</th>\n",
       "      <td>1728.000000</td>\n",
       "      <td>1728.000000</td>\n",
       "      <td>1728.000000</td>\n",
       "      <td>1728.000000</td>\n",
       "      <td>1728.000000</td>\n",
       "      <td>1728.000000</td>\n",
       "      <td>1728.000000</td>\n",
       "    </tr>\n",
       "    <tr>\n",
       "      <th>mean</th>\n",
       "      <td>1.500000</td>\n",
       "      <td>1.500000</td>\n",
       "      <td>1.515625</td>\n",
       "      <td>1.000000</td>\n",
       "      <td>1.000000</td>\n",
       "      <td>1.000000</td>\n",
       "      <td>1.553241</td>\n",
       "    </tr>\n",
       "    <tr>\n",
       "      <th>std</th>\n",
       "      <td>1.118358</td>\n",
       "      <td>1.118358</td>\n",
       "      <td>1.145869</td>\n",
       "      <td>0.816733</td>\n",
       "      <td>0.816733</td>\n",
       "      <td>0.816733</td>\n",
       "      <td>0.875948</td>\n",
       "    </tr>\n",
       "    <tr>\n",
       "      <th>min</th>\n",
       "      <td>0.000000</td>\n",
       "      <td>0.000000</td>\n",
       "      <td>0.000000</td>\n",
       "      <td>0.000000</td>\n",
       "      <td>0.000000</td>\n",
       "      <td>0.000000</td>\n",
       "      <td>0.000000</td>\n",
       "    </tr>\n",
       "    <tr>\n",
       "      <th>25%</th>\n",
       "      <td>0.750000</td>\n",
       "      <td>0.750000</td>\n",
       "      <td>0.750000</td>\n",
       "      <td>0.000000</td>\n",
       "      <td>0.000000</td>\n",
       "      <td>0.000000</td>\n",
       "      <td>1.000000</td>\n",
       "    </tr>\n",
       "    <tr>\n",
       "      <th>50%</th>\n",
       "      <td>1.500000</td>\n",
       "      <td>1.500000</td>\n",
       "      <td>1.500000</td>\n",
       "      <td>1.000000</td>\n",
       "      <td>1.000000</td>\n",
       "      <td>1.000000</td>\n",
       "      <td>2.000000</td>\n",
       "    </tr>\n",
       "    <tr>\n",
       "      <th>75%</th>\n",
       "      <td>2.250000</td>\n",
       "      <td>2.250000</td>\n",
       "      <td>2.250000</td>\n",
       "      <td>2.000000</td>\n",
       "      <td>2.000000</td>\n",
       "      <td>2.000000</td>\n",
       "      <td>2.000000</td>\n",
       "    </tr>\n",
       "    <tr>\n",
       "      <th>max</th>\n",
       "      <td>3.000000</td>\n",
       "      <td>3.000000</td>\n",
       "      <td>4.000000</td>\n",
       "      <td>2.000000</td>\n",
       "      <td>2.000000</td>\n",
       "      <td>2.000000</td>\n",
       "      <td>3.000000</td>\n",
       "    </tr>\n",
       "  </tbody>\n",
       "</table>\n",
       "</div>"
      ],
      "text/plain": [
       "            buying        maint         door      persons     lug_boot  \\\n",
       "count  1728.000000  1728.000000  1728.000000  1728.000000  1728.000000   \n",
       "mean      1.500000     1.500000     1.515625     1.000000     1.000000   \n",
       "std       1.118358     1.118358     1.145869     0.816733     0.816733   \n",
       "min       0.000000     0.000000     0.000000     0.000000     0.000000   \n",
       "25%       0.750000     0.750000     0.750000     0.000000     0.000000   \n",
       "50%       1.500000     1.500000     1.500000     1.000000     1.000000   \n",
       "75%       2.250000     2.250000     2.250000     2.000000     2.000000   \n",
       "max       3.000000     3.000000     4.000000     2.000000     2.000000   \n",
       "\n",
       "            safety        class  \n",
       "count  1728.000000  1728.000000  \n",
       "mean      1.000000     1.553241  \n",
       "std       0.816733     0.875948  \n",
       "min       0.000000     0.000000  \n",
       "25%       0.000000     1.000000  \n",
       "50%       1.000000     2.000000  \n",
       "75%       2.000000     2.000000  \n",
       "max       2.000000     3.000000  "
      ]
     },
     "execution_count": 85,
     "metadata": {},
     "output_type": "execute_result"
    }
   ],
   "source": [
    "## 3. EDA\n",
    "### 3.1 Summary Stats\n",
    "data.describe()"
   ]
  },
  {
   "cell_type": "code",
   "execution_count": 90,
   "id": "f3f9e617",
   "metadata": {},
   "outputs": [
    {
     "data": {
      "text/plain": [
       "0"
      ]
     },
     "execution_count": 90,
     "metadata": {},
     "output_type": "execute_result"
    }
   ],
   "source": [
    "duplicates = data.duplicated()\n",
    "(duplicates == True).sum()"
   ]
  },
  {
   "cell_type": "code",
   "execution_count": 92,
   "id": "a1f773d1",
   "metadata": {},
   "outputs": [
    {
     "data": {
      "image/png": "[encoded data removed]",
      "text/plain": [
       "<Figure size 1260x1260 with 56 Axes>"
      ]
     },
     "metadata": {
      "needs_background": "light"
     },
     "output_type": "display_data"
    }
   ],
   "source": [
    "### 3.2 EDA: Initial Visualization\n",
    "sns.pairplot(data)\n",
    "plt.show()"
   ]
  },
  {
   "cell_type": "code",
   "execution_count": 11,
   "id": "efficient-reunion",
   "metadata": {},
   "outputs": [],
   "source": [
    "### 3.3 Feature Associations\n",
    "# Convariance: Strength of Linear relationships"
   ]
  },
  {
   "cell_type": "code",
   "execution_count": null,
   "id": "2ca03121",
   "metadata": {},
   "outputs": [],
   "source": []
  },
  {
   "cell_type": "code",
   "execution_count": 94,
   "id": "desperate-palmer",
   "metadata": {},
   "outputs": [
    {
     "name": "stdout",
     "output_type": "stream",
     "text": [
      "0       2\n",
      "1       2\n",
      "2       2\n",
      "3       2\n",
      "4       2\n",
      "       ..\n",
      "1723    1\n",
      "1724    3\n",
      "1725    2\n",
      "1726    1\n",
      "1727    3\n",
      "Name: class, Length: 1728, dtype: int64\n",
      "      buying  maint  door  persons  lug_boot  safety  class\n",
      "0          3      3     0        0         2       1      2\n",
      "1          3      3     0        0         2       2      2\n",
      "2          3      3     0        0         2       0      2\n",
      "3          3      3     0        0         1       1      2\n",
      "4          3      3     0        0         1       2      2\n",
      "...      ...    ...   ...      ...       ...     ...    ...\n",
      "1723       1      1     3        2         1       2      1\n",
      "1724       1      1     3        2         1       0      3\n",
      "1725       1      1     3        2         0       1      2\n",
      "1726       1      1     3        2         0       2      1\n",
      "1727       1      1     3        2         0       0      3\n",
      "\n",
      "[1728 rows x 7 columns]\n"
     ]
    }
   ],
   "source": [
    "#Split Data\n",
    "target = 'class'\n",
    "y_data = data[target]\n",
    "data[target] = y_data\n",
    "\n",
    "print(y_data)\n",
    "print(data)\n",
    "\n",
    "x = np.array(data.drop([target],axis=1))\n",
    "y = np.array(data[target])\n",
    "x_train, x_test, y_train, y_test = train_test_split(x,y,test_size=0.2)"
   ]
  },
  {
   "cell_type": "code",
   "execution_count": 95,
   "id": "center-numbers",
   "metadata": {},
   "outputs": [
    {
     "data": {
      "text/plain": [
       "KNeighborsClassifier(n_neighbors=3)"
      ]
     },
     "execution_count": 95,
     "metadata": {},
     "output_type": "execute_result"
    }
   ],
   "source": [
    "#Fit/Train Model\n",
    "KNN = KNeighborsClassifier(n_neighbors=3)\n",
    "KNN.fit(x_train,y_train)"
   ]
  },
  {
   "cell_type": "code",
   "execution_count": 96,
   "id": "noted-october",
   "metadata": {},
   "outputs": [],
   "source": [
    "#Evaluate Model\n",
    "y_pred = KNN.predict(x_test)\n",
    "probabilities = KNN.predict_proba(x_test)\n",
    "\n",
    "def evaluate(model,y_pred,y_test):\n",
    "    if model == 'linreg':\n",
    "        print(linreg.score(x_test,y_test))\n",
    "        print(linreg.coef_)\n",
    "        y_pred = linreg.predict(x_test)\n",
    "        #print(f'The Intercept (grade) is {linreg.intercept_}')\n",
    "        for i in range(len(y_pred)):\n",
    "            print(f'Predicted: {round(y_pred[i])}\\t Actual: {y_test[i]} \\t Data {x_test[i]}')\n",
    "    if model == 'KNN':\n",
    "        print(KNN.score(x_test,y_test))\n",
    "        y_pred = y_pred.tolist()\n",
    "        y_test = y_test.tolist()\n",
    "        classes = ['unacc','acc','good','vgood']\n",
    "        for i in range(len(y_pred)):\n",
    "            print(f'Pred: {classes[y_pred[i]]}\\t Actual: {classes[y_test[i]]} \\t Probability: {probabilities[i]}')\n",
    "    return"
   ]
  },
  {
   "cell_type": "code",
   "execution_count": 97,
   "id": "after-creation",
   "metadata": {},
   "outputs": [
    {
     "name": "stdout",
     "output_type": "stream",
     "text": [
      "0.8497109826589595\n",
      "Pred: good\t Actual: good \t Probability: [0.33333333 0.         0.66666667 0.        ]\n",
      "Pred: good\t Actual: good \t Probability: [0. 0. 1. 0.]\n",
      "Pred: good\t Actual: good \t Probability: [0. 0. 1. 0.]\n",
      "Pred: good\t Actual: good \t Probability: [0. 0. 1. 0.]\n",
      "Pred: unacc\t Actual: unacc \t Probability: [0.66666667 0.         0.33333333 0.        ]\n",
      "Pred: good\t Actual: good \t Probability: [0. 0. 1. 0.]\n",
      "Pred: good\t Actual: good \t Probability: [0. 0. 1. 0.]\n",
      "Pred: good\t Actual: good \t Probability: [0.33333333 0.         0.66666667 0.        ]\n",
      "Pred: acc\t Actual: unacc \t Probability: [0.33333333 0.66666667 0.         0.        ]\n",
      "Pred: unacc\t Actual: unacc \t Probability: [0.66666667 0.         0.33333333 0.        ]\n",
      "Pred: good\t Actual: good \t Probability: [0. 0. 1. 0.]\n",
      "Pred: good\t Actual: good \t Probability: [0. 0. 1. 0.]\n",
      "Pred: unacc\t Actual: vgood \t Probability: [0.33333333 0.33333333 0.33333333 0.        ]\n",
      "Pred: good\t Actual: good \t Probability: [0. 0. 1. 0.]\n",
      "Pred: unacc\t Actual: unacc \t Probability: [1. 0. 0. 0.]\n",
      "Pred: good\t Actual: unacc \t Probability: [0.33333333 0.         0.66666667 0.        ]\n",
      "Pred: good\t Actual: good \t Probability: [0. 0. 1. 0.]\n",
      "Pred: unacc\t Actual: unacc \t Probability: [0.66666667 0.33333333 0.         0.        ]\n",
      "Pred: good\t Actual: good \t Probability: [0. 0. 1. 0.]\n",
      "Pred: unacc\t Actual: unacc \t Probability: [0.66666667 0.         0.33333333 0.        ]\n",
      "Pred: good\t Actual: good \t Probability: [0.33333333 0.         0.66666667 0.        ]\n",
      "Pred: good\t Actual: good \t Probability: [0.33333333 0.         0.66666667 0.        ]\n",
      "Pred: good\t Actual: good \t Probability: [0. 0. 1. 0.]\n",
      "Pred: good\t Actual: good \t Probability: [0. 0. 1. 0.]\n",
      "Pred: unacc\t Actual: unacc \t Probability: [1. 0. 0. 0.]\n",
      "Pred: unacc\t Actual: unacc \t Probability: [0.66666667 0.         0.33333333 0.        ]\n",
      "Pred: unacc\t Actual: good \t Probability: [0.66666667 0.         0.33333333 0.        ]\n",
      "Pred: good\t Actual: good \t Probability: [0. 0. 1. 0.]\n",
      "Pred: good\t Actual: good \t Probability: [0. 0. 1. 0.]\n",
      "Pred: acc\t Actual: acc \t Probability: [0. 1. 0. 0.]\n",
      "Pred: good\t Actual: good \t Probability: [0. 0. 1. 0.]\n",
      "Pred: unacc\t Actual: unacc \t Probability: [0.66666667 0.         0.33333333 0.        ]\n",
      "Pred: good\t Actual: good \t Probability: [0. 0. 1. 0.]\n",
      "Pred: good\t Actual: unacc \t Probability: [0.33333333 0.         0.66666667 0.        ]\n",
      "Pred: good\t Actual: good \t Probability: [0. 0. 1. 0.]\n",
      "Pred: good\t Actual: good \t Probability: [0. 0. 1. 0.]\n",
      "Pred: good\t Actual: good \t Probability: [0. 0. 1. 0.]\n",
      "Pred: good\t Actual: good \t Probability: [0.33333333 0.         0.66666667 0.        ]\n",
      "Pred: good\t Actual: good \t Probability: [0. 0. 1. 0.]\n",
      "Pred: good\t Actual: unacc \t Probability: [0.33333333 0.         0.66666667 0.        ]\n",
      "Pred: good\t Actual: good \t Probability: [0. 0. 1. 0.]\n",
      "Pred: good\t Actual: good \t Probability: [0. 0. 1. 0.]\n",
      "Pred: good\t Actual: good \t Probability: [0. 0. 1. 0.]\n",
      "Pred: good\t Actual: good \t Probability: [0.33333333 0.         0.66666667 0.        ]\n",
      "Pred: good\t Actual: good \t Probability: [0.33333333 0.         0.66666667 0.        ]\n",
      "Pred: good\t Actual: good \t Probability: [0.         0.33333333 0.66666667 0.        ]\n",
      "Pred: good\t Actual: good \t Probability: [0. 0. 1. 0.]\n",
      "Pred: good\t Actual: good \t Probability: [0. 0. 1. 0.]\n",
      "Pred: good\t Actual: good \t Probability: [0.33333333 0.         0.66666667 0.        ]\n",
      "Pred: good\t Actual: good \t Probability: [0. 0. 1. 0.]\n",
      "Pred: good\t Actual: good \t Probability: [0.33333333 0.         0.66666667 0.        ]\n",
      "Pred: good\t Actual: good \t Probability: [0. 0. 1. 0.]\n",
      "Pred: good\t Actual: good \t Probability: [0.33333333 0.         0.66666667 0.        ]\n",
      "Pred: acc\t Actual: acc \t Probability: [0.33333333 0.66666667 0.         0.        ]\n",
      "Pred: good\t Actual: good \t Probability: [0. 0. 1. 0.]\n",
      "Pred: unacc\t Actual: good \t Probability: [0.66666667 0.         0.33333333 0.        ]\n",
      "Pred: unacc\t Actual: unacc \t Probability: [0.66666667 0.         0.33333333 0.        ]\n",
      "Pred: good\t Actual: good \t Probability: [0. 0. 1. 0.]\n",
      "Pred: unacc\t Actual: good \t Probability: [0.66666667 0.         0.33333333 0.        ]\n",
      "Pred: good\t Actual: good \t Probability: [0. 0. 1. 0.]\n",
      "Pred: good\t Actual: unacc \t Probability: [0.33333333 0.         0.66666667 0.        ]\n",
      "Pred: unacc\t Actual: good \t Probability: [0.66666667 0.         0.33333333 0.        ]\n",
      "Pred: good\t Actual: good \t Probability: [0. 0. 1. 0.]\n",
      "Pred: good\t Actual: good \t Probability: [0. 0. 1. 0.]\n",
      "Pred: good\t Actual: good \t Probability: [0. 0. 1. 0.]\n",
      "Pred: good\t Actual: unacc \t Probability: [0.         0.         0.66666667 0.33333333]\n",
      "Pred: good\t Actual: good \t Probability: [0. 0. 1. 0.]\n",
      "Pred: good\t Actual: good \t Probability: [0.         0.         0.66666667 0.33333333]\n",
      "Pred: good\t Actual: good \t Probability: [0.33333333 0.         0.66666667 0.        ]\n",
      "Pred: good\t Actual: good \t Probability: [0. 0. 1. 0.]\n",
      "Pred: good\t Actual: good \t Probability: [0. 0. 1. 0.]\n",
      "Pred: unacc\t Actual: unacc \t Probability: [0.66666667 0.         0.33333333 0.        ]\n",
      "Pred: good\t Actual: good \t Probability: [0. 0. 1. 0.]\n",
      "Pred: good\t Actual: good \t Probability: [0. 0. 1. 0.]\n",
      "Pred: unacc\t Actual: unacc \t Probability: [0.66666667 0.         0.33333333 0.        ]\n",
      "Pred: unacc\t Actual: unacc \t Probability: [0.33333333 0.         0.33333333 0.33333333]\n",
      "Pred: good\t Actual: good \t Probability: [0. 0. 1. 0.]\n",
      "Pred: good\t Actual: good \t Probability: [0. 0. 1. 0.]\n",
      "Pred: unacc\t Actual: unacc \t Probability: [0.66666667 0.         0.33333333 0.        ]\n",
      "Pred: good\t Actual: good \t Probability: [0. 0. 1. 0.]\n",
      "Pred: good\t Actual: good \t Probability: [0. 0. 1. 0.]\n",
      "Pred: good\t Actual: unacc \t Probability: [0.33333333 0.         0.66666667 0.        ]\n",
      "Pred: good\t Actual: good \t Probability: [0. 0. 1. 0.]\n",
      "Pred: good\t Actual: good \t Probability: [0. 0. 1. 0.]\n",
      "Pred: good\t Actual: unacc \t Probability: [0.33333333 0.         0.66666667 0.        ]\n",
      "Pred: good\t Actual: good \t Probability: [0. 0. 1. 0.]\n",
      "Pred: good\t Actual: good \t Probability: [0. 0. 1. 0.]\n",
      "Pred: acc\t Actual: good \t Probability: [0.         0.33333333 0.33333333 0.33333333]\n",
      "Pred: good\t Actual: unacc \t Probability: [0.33333333 0.         0.66666667 0.        ]\n",
      "Pred: good\t Actual: good \t Probability: [0.33333333 0.         0.66666667 0.        ]\n",
      "Pred: good\t Actual: good \t Probability: [0. 0. 1. 0.]\n",
      "Pred: good\t Actual: good \t Probability: [0. 0. 1. 0.]\n",
      "Pred: unacc\t Actual: unacc \t Probability: [0.33333333 0.         0.33333333 0.33333333]\n",
      "Pred: good\t Actual: good \t Probability: [0. 0. 1. 0.]\n",
      "Pred: good\t Actual: good \t Probability: [0. 0. 1. 0.]\n",
      "Pred: unacc\t Actual: acc \t Probability: [0.33333333 0.33333333 0.33333333 0.        ]\n",
      "Pred: good\t Actual: good \t Probability: [0. 0. 1. 0.]\n",
      "Pred: acc\t Actual: acc \t Probability: [0.33333333 0.66666667 0.         0.        ]\n",
      "Pred: unacc\t Actual: good \t Probability: [0.66666667 0.         0.33333333 0.        ]\n",
      "Pred: good\t Actual: good \t Probability: [0. 0. 1. 0.]\n",
      "Pred: unacc\t Actual: unacc \t Probability: [1. 0. 0. 0.]\n",
      "Pred: good\t Actual: good \t Probability: [0.33333333 0.         0.66666667 0.        ]\n",
      "Pred: good\t Actual: good \t Probability: [0. 0. 1. 0.]\n",
      "Pred: good\t Actual: good \t Probability: [0.         0.         0.66666667 0.33333333]\n",
      "Pred: unacc\t Actual: unacc \t Probability: [0.33333333 0.33333333 0.33333333 0.        ]\n",
      "Pred: good\t Actual: good \t Probability: [0. 0. 1. 0.]\n",
      "Pred: good\t Actual: unacc \t Probability: [0.33333333 0.         0.66666667 0.        ]\n",
      "Pred: good\t Actual: good \t Probability: [0. 0. 1. 0.]\n",
      "Pred: vgood\t Actual: vgood \t Probability: [0.         0.         0.33333333 0.66666667]\n",
      "Pred: good\t Actual: good \t Probability: [0.33333333 0.         0.66666667 0.        ]\n",
      "Pred: good\t Actual: good \t Probability: [0.33333333 0.         0.66666667 0.        ]\n",
      "Pred: good\t Actual: good \t Probability: [0. 0. 1. 0.]\n",
      "Pred: good\t Actual: good \t Probability: [0. 0. 1. 0.]\n",
      "Pred: good\t Actual: good \t Probability: [0.33333333 0.         0.66666667 0.        ]\n",
      "Pred: good\t Actual: good \t Probability: [0. 0. 1. 0.]\n",
      "Pred: good\t Actual: good \t Probability: [0. 0. 1. 0.]\n",
      "Pred: good\t Actual: good \t Probability: [0. 0. 1. 0.]\n",
      "Pred: good\t Actual: good \t Probability: [0. 0. 1. 0.]\n",
      "Pred: good\t Actual: good \t Probability: [0. 0. 1. 0.]\n",
      "Pred: good\t Actual: good \t Probability: [0. 0. 1. 0.]\n",
      "Pred: unacc\t Actual: unacc \t Probability: [0.66666667 0.         0.33333333 0.        ]\n",
      "Pred: good\t Actual: good \t Probability: [0. 0. 1. 0.]\n",
      "Pred: unacc\t Actual: acc \t Probability: [0.66666667 0.33333333 0.         0.        ]\n",
      "Pred: good\t Actual: good \t Probability: [0. 0. 1. 0.]\n",
      "Pred: good\t Actual: good \t Probability: [0. 0. 1. 0.]\n",
      "Pred: good\t Actual: good \t Probability: [0. 0. 1. 0.]\n",
      "Pred: good\t Actual: good \t Probability: [0. 0. 1. 0.]\n",
      "Pred: good\t Actual: good \t Probability: [0.33333333 0.         0.66666667 0.        ]\n",
      "Pred: good\t Actual: good \t Probability: [0. 0. 1. 0.]\n",
      "Pred: good\t Actual: good \t Probability: [0. 0. 1. 0.]\n",
      "Pred: acc\t Actual: acc \t Probability: [0.         0.33333333 0.33333333 0.33333333]\n",
      "Pred: good\t Actual: good \t Probability: [0. 0. 1. 0.]\n",
      "Pred: good\t Actual: unacc \t Probability: [0.33333333 0.         0.66666667 0.        ]\n",
      "Pred: unacc\t Actual: unacc \t Probability: [0.66666667 0.33333333 0.         0.        ]\n",
      "Pred: good\t Actual: good \t Probability: [0. 0. 1. 0.]\n",
      "Pred: good\t Actual: good \t Probability: [0. 0. 1. 0.]\n",
      "Pred: unacc\t Actual: unacc \t Probability: [0.33333333 0.         0.33333333 0.33333333]\n",
      "Pred: good\t Actual: good \t Probability: [0. 0. 1. 0.]\n",
      "Pred: good\t Actual: good \t Probability: [0.33333333 0.         0.66666667 0.        ]\n",
      "Pred: unacc\t Actual: unacc \t Probability: [0.66666667 0.         0.33333333 0.        ]\n",
      "Pred: good\t Actual: unacc \t Probability: [0.33333333 0.         0.66666667 0.        ]\n",
      "Pred: good\t Actual: good \t Probability: [0. 0. 1. 0.]\n",
      "Pred: good\t Actual: good \t Probability: [0. 0. 1. 0.]\n",
      "Pred: good\t Actual: good \t Probability: [0. 0. 1. 0.]\n",
      "Pred: good\t Actual: good \t Probability: [0.33333333 0.         0.66666667 0.        ]\n",
      "Pred: good\t Actual: unacc \t Probability: [0.33333333 0.         0.66666667 0.        ]\n",
      "Pred: good\t Actual: good \t Probability: [0. 0. 1. 0.]\n",
      "Pred: good\t Actual: good \t Probability: [0. 0. 1. 0.]\n",
      "Pred: good\t Actual: unacc \t Probability: [0.33333333 0.         0.66666667 0.        ]\n",
      "Pred: good\t Actual: good \t Probability: [0. 0. 1. 0.]\n",
      "Pred: good\t Actual: good \t Probability: [0. 0. 1. 0.]\n",
      "Pred: good\t Actual: good \t Probability: [0.33333333 0.         0.66666667 0.        ]\n",
      "Pred: good\t Actual: good \t Probability: [0. 0. 1. 0.]\n",
      "Pred: unacc\t Actual: unacc \t Probability: [0.33333333 0.         0.33333333 0.33333333]\n",
      "Pred: unacc\t Actual: unacc \t Probability: [0.66666667 0.         0.33333333 0.        ]\n",
      "Pred: good\t Actual: good \t Probability: [0. 0. 1. 0.]\n",
      "Pred: good\t Actual: good \t Probability: [0. 0. 1. 0.]\n",
      "Pred: good\t Actual: good \t Probability: [0. 0. 1. 0.]\n",
      "Pred: good\t Actual: good \t Probability: [0.         0.33333333 0.66666667 0.        ]\n",
      "Pred: good\t Actual: good \t Probability: [0.33333333 0.         0.66666667 0.        ]\n",
      "Pred: good\t Actual: good \t Probability: [0. 0. 1. 0.]\n",
      "Pred: good\t Actual: good \t Probability: [0. 0. 1. 0.]\n",
      "Pred: unacc\t Actual: good \t Probability: [0.66666667 0.         0.33333333 0.        ]\n",
      "Pred: good\t Actual: good \t Probability: [0. 0. 1. 0.]\n",
      "Pred: unacc\t Actual: unacc \t Probability: [0.33333333 0.         0.33333333 0.33333333]\n",
      "Pred: good\t Actual: good \t Probability: [0. 0. 1. 0.]\n",
      "Pred: good\t Actual: good \t Probability: [0. 0. 1. 0.]\n",
      "Pred: unacc\t Actual: unacc \t Probability: [0.33333333 0.33333333 0.33333333 0.        ]\n",
      "Pred: good\t Actual: good \t Probability: [0. 0. 1. 0.]\n",
      "Pred: good\t Actual: good \t Probability: [0.33333333 0.         0.66666667 0.        ]\n",
      "Pred: good\t Actual: good \t Probability: [0. 0. 1. 0.]\n",
      "Pred: good\t Actual: good \t Probability: [0. 0. 1. 0.]\n",
      "Pred: good\t Actual: good \t Probability: [0. 0. 1. 0.]\n",
      "Pred: unacc\t Actual: acc \t Probability: [0.33333333 0.33333333 0.33333333 0.        ]\n",
      "Pred: good\t Actual: good \t Probability: [0.33333333 0.         0.66666667 0.        ]\n",
      "Pred: good\t Actual: good \t Probability: [0. 0. 1. 0.]\n",
      "Pred: good\t Actual: good \t Probability: [0. 0. 1. 0.]\n",
      "Pred: unacc\t Actual: unacc \t Probability: [1. 0. 0. 0.]\n",
      "Pred: acc\t Actual: acc \t Probability: [0.33333333 0.66666667 0.         0.        ]\n",
      "Pred: good\t Actual: unacc \t Probability: [0.33333333 0.         0.66666667 0.        ]\n",
      "Pred: good\t Actual: good \t Probability: [0. 0. 1. 0.]\n",
      "Pred: good\t Actual: good \t Probability: [0. 0. 1. 0.]\n",
      "Pred: good\t Actual: good \t Probability: [0. 0. 1. 0.]\n",
      "Pred: good\t Actual: vgood \t Probability: [0.         0.         0.66666667 0.33333333]\n",
      "Pred: good\t Actual: unacc \t Probability: [0.         0.         0.66666667 0.33333333]\n",
      "Pred: acc\t Actual: acc \t Probability: [0.33333333 0.66666667 0.         0.        ]\n",
      "Pred: good\t Actual: good \t Probability: [0. 0. 1. 0.]\n",
      "Pred: good\t Actual: good \t Probability: [0. 0. 1. 0.]\n",
      "Pred: good\t Actual: good \t Probability: [0. 0. 1. 0.]\n",
      "Pred: good\t Actual: good \t Probability: [0.33333333 0.         0.66666667 0.        ]\n",
      "Pred: unacc\t Actual: vgood \t Probability: [0.33333333 0.         0.33333333 0.33333333]\n",
      "Pred: good\t Actual: good \t Probability: [0. 0. 1. 0.]\n",
      "Pred: good\t Actual: good \t Probability: [0.         0.         0.66666667 0.33333333]\n",
      "Pred: unacc\t Actual: unacc \t Probability: [0.33333333 0.33333333 0.33333333 0.        ]\n",
      "Pred: good\t Actual: unacc \t Probability: [0.33333333 0.         0.66666667 0.        ]\n",
      "Pred: unacc\t Actual: unacc \t Probability: [0.66666667 0.         0.33333333 0.        ]\n",
      "Pred: good\t Actual: good \t Probability: [0.         0.33333333 0.66666667 0.        ]\n",
      "Pred: good\t Actual: good \t Probability: [0.33333333 0.         0.66666667 0.        ]\n",
      "Pred: good\t Actual: good \t Probability: [0. 0. 1. 0.]\n",
      "Pred: good\t Actual: unacc \t Probability: [0.33333333 0.         0.66666667 0.        ]\n",
      "Pred: good\t Actual: good \t Probability: [0. 0. 1. 0.]\n",
      "Pred: good\t Actual: good \t Probability: [0. 0. 1. 0.]\n",
      "Pred: unacc\t Actual: unacc \t Probability: [1. 0. 0. 0.]\n",
      "Pred: unacc\t Actual: unacc \t Probability: [0.66666667 0.         0.33333333 0.        ]\n",
      "Pred: good\t Actual: good \t Probability: [0. 0. 1. 0.]\n",
      "Pred: good\t Actual: good \t Probability: [0. 0. 1. 0.]\n",
      "Pred: good\t Actual: good \t Probability: [0. 0. 1. 0.]\n",
      "Pred: unacc\t Actual: unacc \t Probability: [0.66666667 0.         0.33333333 0.        ]\n",
      "Pred: good\t Actual: good \t Probability: [0. 0. 1. 0.]\n",
      "Pred: good\t Actual: good \t Probability: [0. 0. 1. 0.]\n",
      "Pred: good\t Actual: good \t Probability: [0.33333333 0.         0.66666667 0.        ]\n",
      "Pred: unacc\t Actual: unacc \t Probability: [0.66666667 0.         0.33333333 0.        ]\n",
      "Pred: good\t Actual: good \t Probability: [0.33333333 0.         0.66666667 0.        ]\n",
      "Pred: good\t Actual: good \t Probability: [0. 0. 1. 0.]\n",
      "Pred: unacc\t Actual: unacc \t Probability: [0.66666667 0.         0.33333333 0.        ]\n",
      "Pred: good\t Actual: good \t Probability: [0.33333333 0.         0.66666667 0.        ]\n",
      "Pred: good\t Actual: good \t Probability: [0. 0. 1. 0.]\n",
      "Pred: good\t Actual: good \t Probability: [0.33333333 0.         0.66666667 0.        ]\n",
      "Pred: unacc\t Actual: unacc \t Probability: [0.66666667 0.         0.33333333 0.        ]\n",
      "Pred: good\t Actual: good \t Probability: [0. 0. 1. 0.]\n",
      "Pred: unacc\t Actual: unacc \t Probability: [0.66666667 0.         0.33333333 0.        ]\n",
      "Pred: good\t Actual: good \t Probability: [0. 0. 1. 0.]\n",
      "Pred: good\t Actual: good \t Probability: [0. 0. 1. 0.]\n",
      "Pred: good\t Actual: good \t Probability: [0.33333333 0.         0.66666667 0.        ]\n",
      "Pred: good\t Actual: good \t Probability: [0.         0.33333333 0.66666667 0.        ]\n",
      "Pred: good\t Actual: good \t Probability: [0. 0. 1. 0.]\n",
      "Pred: good\t Actual: good \t Probability: [0. 0. 1. 0.]\n",
      "Pred: good\t Actual: good \t Probability: [0. 0. 1. 0.]\n",
      "Pred: good\t Actual: good \t Probability: [0. 0. 1. 0.]\n",
      "Pred: good\t Actual: good \t Probability: [0.33333333 0.         0.66666667 0.        ]\n",
      "Pred: good\t Actual: good \t Probability: [0. 0. 1. 0.]\n",
      "Pred: good\t Actual: unacc \t Probability: [0.33333333 0.         0.66666667 0.        ]\n",
      "Pred: good\t Actual: unacc \t Probability: [0.33333333 0.         0.66666667 0.        ]\n",
      "Pred: unacc\t Actual: unacc \t Probability: [0.66666667 0.         0.         0.33333333]\n",
      "Pred: good\t Actual: good \t Probability: [0. 0. 1. 0.]\n",
      "Pred: vgood\t Actual: vgood \t Probability: [0.33333333 0.         0.         0.66666667]\n",
      "Pred: good\t Actual: good \t Probability: [0. 0. 1. 0.]\n",
      "Pred: good\t Actual: good \t Probability: [0. 0. 1. 0.]\n",
      "Pred: good\t Actual: good \t Probability: [0. 0. 1. 0.]\n",
      "Pred: good\t Actual: good \t Probability: [0.33333333 0.         0.66666667 0.        ]\n",
      "Pred: good\t Actual: good \t Probability: [0. 0. 1. 0.]\n",
      "Pred: good\t Actual: good \t Probability: [0.33333333 0.         0.66666667 0.        ]\n",
      "Pred: good\t Actual: good \t Probability: [0. 0. 1. 0.]\n",
      "Pred: good\t Actual: good \t Probability: [0. 0. 1. 0.]\n",
      "Pred: good\t Actual: unacc \t Probability: [0.33333333 0.         0.66666667 0.        ]\n",
      "Pred: unacc\t Actual: unacc \t Probability: [0.66666667 0.         0.33333333 0.        ]\n",
      "Pred: good\t Actual: good \t Probability: [0. 0. 1. 0.]\n",
      "Pred: good\t Actual: unacc \t Probability: [0.         0.33333333 0.66666667 0.        ]\n",
      "Pred: good\t Actual: good \t Probability: [0. 0. 1. 0.]\n",
      "Pred: good\t Actual: good \t Probability: [0.         0.33333333 0.66666667 0.        ]\n",
      "Pred: unacc\t Actual: unacc \t Probability: [0.66666667 0.         0.33333333 0.        ]\n",
      "Pred: good\t Actual: good \t Probability: [0. 0. 1. 0.]\n",
      "Pred: unacc\t Actual: unacc \t Probability: [0.66666667 0.33333333 0.         0.        ]\n",
      "Pred: unacc\t Actual: unacc \t Probability: [0.66666667 0.         0.33333333 0.        ]\n",
      "Pred: good\t Actual: good \t Probability: [0. 0. 1. 0.]\n",
      "Pred: good\t Actual: good \t Probability: [0. 0. 1. 0.]\n",
      "Pred: unacc\t Actual: unacc \t Probability: [0.66666667 0.         0.33333333 0.        ]\n",
      "Pred: good\t Actual: unacc \t Probability: [0.33333333 0.         0.66666667 0.        ]\n",
      "Pred: acc\t Actual: vgood \t Probability: [0.         0.33333333 0.33333333 0.33333333]\n",
      "Pred: good\t Actual: good \t Probability: [0. 0. 1. 0.]\n",
      "Pred: good\t Actual: good \t Probability: [0. 0. 1. 0.]\n",
      "Pred: unacc\t Actual: unacc \t Probability: [1. 0. 0. 0.]\n",
      "Pred: good\t Actual: good \t Probability: [0. 0. 1. 0.]\n",
      "Pred: unacc\t Actual: unacc \t Probability: [0.66666667 0.         0.33333333 0.        ]\n",
      "Pred: unacc\t Actual: unacc \t Probability: [0.66666667 0.         0.33333333 0.        ]\n",
      "Pred: good\t Actual: good \t Probability: [0. 0. 1. 0.]\n",
      "Pred: good\t Actual: unacc \t Probability: [0.33333333 0.         0.66666667 0.        ]\n",
      "Pred: good\t Actual: good \t Probability: [0. 0. 1. 0.]\n",
      "Pred: good\t Actual: unacc \t Probability: [0.33333333 0.         0.66666667 0.        ]\n",
      "Pred: good\t Actual: unacc \t Probability: [0.33333333 0.         0.66666667 0.        ]\n",
      "Pred: good\t Actual: good \t Probability: [0. 0. 1. 0.]\n",
      "Pred: good\t Actual: good \t Probability: [0. 0. 1. 0.]\n",
      "Pred: good\t Actual: good \t Probability: [0. 0. 1. 0.]\n",
      "Pred: vgood\t Actual: vgood \t Probability: [0.         0.         0.33333333 0.66666667]\n",
      "Pred: good\t Actual: good \t Probability: [0. 0. 1. 0.]\n",
      "Pred: good\t Actual: good \t Probability: [0. 0. 1. 0.]\n",
      "Pred: good\t Actual: good \t Probability: [0.33333333 0.         0.66666667 0.        ]\n",
      "Pred: good\t Actual: good \t Probability: [0. 0. 1. 0.]\n",
      "Pred: good\t Actual: good \t Probability: [0. 0. 1. 0.]\n",
      "Pred: unacc\t Actual: unacc \t Probability: [0.66666667 0.         0.33333333 0.        ]\n",
      "Pred: good\t Actual: good \t Probability: [0.         0.33333333 0.66666667 0.        ]\n",
      "Pred: good\t Actual: good \t Probability: [0. 0. 1. 0.]\n",
      "Pred: good\t Actual: good \t Probability: [0. 0. 1. 0.]\n",
      "Pred: good\t Actual: good \t Probability: [0. 0. 1. 0.]\n",
      "Pred: good\t Actual: good \t Probability: [0. 0. 1. 0.]\n",
      "Pred: good\t Actual: good \t Probability: [0.33333333 0.         0.66666667 0.        ]\n",
      "Pred: unacc\t Actual: good \t Probability: [0.66666667 0.         0.33333333 0.        ]\n",
      "Pred: good\t Actual: good \t Probability: [0. 0. 1. 0.]\n",
      "Pred: good\t Actual: good \t Probability: [0. 0. 1. 0.]\n",
      "Pred: good\t Actual: good \t Probability: [0. 0. 1. 0.]\n",
      "Pred: good\t Actual: good \t Probability: [0. 0. 1. 0.]\n",
      "Pred: good\t Actual: good \t Probability: [0. 0. 1. 0.]\n",
      "Pred: good\t Actual: good \t Probability: [0. 0. 1. 0.]\n",
      "Pred: unacc\t Actual: unacc \t Probability: [0.66666667 0.         0.33333333 0.        ]\n",
      "Pred: good\t Actual: good \t Probability: [0.33333333 0.         0.66666667 0.        ]\n",
      "Pred: acc\t Actual: unacc \t Probability: [0.33333333 0.66666667 0.         0.        ]\n",
      "Pred: good\t Actual: good \t Probability: [0. 0. 1. 0.]\n",
      "Pred: unacc\t Actual: acc \t Probability: [0.33333333 0.33333333 0.33333333 0.        ]\n",
      "Pred: good\t Actual: vgood \t Probability: [0.33333333 0.         0.66666667 0.        ]\n",
      "Pred: good\t Actual: good \t Probability: [0.33333333 0.         0.66666667 0.        ]\n",
      "Pred: acc\t Actual: unacc \t Probability: [0.33333333 0.66666667 0.         0.        ]\n",
      "Pred: good\t Actual: unacc \t Probability: [0.33333333 0.         0.66666667 0.        ]\n",
      "Pred: good\t Actual: good \t Probability: [0.33333333 0.         0.66666667 0.        ]\n",
      "Pred: good\t Actual: good \t Probability: [0. 0. 1. 0.]\n",
      "Pred: good\t Actual: good \t Probability: [0. 0. 1. 0.]\n",
      "Pred: good\t Actual: good \t Probability: [0.33333333 0.         0.66666667 0.        ]\n",
      "Pred: good\t Actual: good \t Probability: [0. 0. 1. 0.]\n",
      "Pred: good\t Actual: good \t Probability: [0. 0. 1. 0.]\n",
      "Pred: good\t Actual: unacc \t Probability: [0.33333333 0.         0.66666667 0.        ]\n",
      "Pred: good\t Actual: good \t Probability: [0. 0. 1. 0.]\n",
      "Pred: good\t Actual: good \t Probability: [0. 0. 1. 0.]\n",
      "Pred: unacc\t Actual: unacc \t Probability: [0.66666667 0.         0.33333333 0.        ]\n",
      "Pred: unacc\t Actual: unacc \t Probability: [0.66666667 0.         0.33333333 0.        ]\n",
      "Pred: unacc\t Actual: acc \t Probability: [0.66666667 0.         0.33333333 0.        ]\n",
      "Pred: vgood\t Actual: vgood \t Probability: [0.33333333 0.         0.         0.66666667]\n",
      "Pred: unacc\t Actual: unacc \t Probability: [0.66666667 0.         0.33333333 0.        ]\n",
      "Pred: unacc\t Actual: unacc \t Probability: [0.66666667 0.         0.33333333 0.        ]\n",
      "Pred: good\t Actual: good \t Probability: [0.         0.         0.66666667 0.33333333]\n",
      "Pred: unacc\t Actual: unacc \t Probability: [0.33333333 0.33333333 0.33333333 0.        ]\n",
      "Pred: good\t Actual: good \t Probability: [0.33333333 0.         0.66666667 0.        ]\n",
      "Pred: good\t Actual: good \t Probability: [0. 0. 1. 0.]\n",
      "Pred: good\t Actual: good \t Probability: [0. 0. 1. 0.]\n",
      "Pred: unacc\t Actual: vgood \t Probability: [0.66666667 0.         0.         0.33333333]\n",
      "Pred: good\t Actual: good \t Probability: [0. 0. 1. 0.]\n",
      "Pred: good\t Actual: good \t Probability: [0. 0. 1. 0.]\n",
      "Pred: good\t Actual: good \t Probability: [0. 0. 1. 0.]\n",
      "Pred: good\t Actual: good \t Probability: [0. 0. 1. 0.]\n",
      "Pred: good\t Actual: good \t Probability: [0. 0. 1. 0.]\n",
      "Pred: unacc\t Actual: unacc \t Probability: [1. 0. 0. 0.]\n",
      "Pred: good\t Actual: good \t Probability: [0. 0. 1. 0.]\n",
      "Pred: good\t Actual: good \t Probability: [0. 0. 1. 0.]\n",
      "Pred: good\t Actual: good \t Probability: [0. 0. 1. 0.]\n",
      "Pred: good\t Actual: good \t Probability: [0.33333333 0.         0.66666667 0.        ]\n",
      "Pred: good\t Actual: good \t Probability: [0. 0. 1. 0.]\n",
      "Pred: good\t Actual: good \t Probability: [0. 0. 1. 0.]\n",
      "Pred: good\t Actual: good \t Probability: [0. 0. 1. 0.]\n",
      "Pred: good\t Actual: good \t Probability: [0. 0. 1. 0.]\n",
      "Pred: good\t Actual: unacc \t Probability: [0.33333333 0.         0.66666667 0.        ]\n",
      "Pred: unacc\t Actual: unacc \t Probability: [0.66666667 0.         0.33333333 0.        ]\n",
      "Pred: good\t Actual: good \t Probability: [0. 0. 1. 0.]\n",
      "Pred: unacc\t Actual: unacc \t Probability: [0.66666667 0.         0.         0.33333333]\n",
      "Pred: good\t Actual: good \t Probability: [0. 0. 1. 0.]\n",
      "Pred: good\t Actual: unacc \t Probability: [0.33333333 0.         0.66666667 0.        ]\n",
      "Pred: good\t Actual: unacc \t Probability: [0.33333333 0.         0.66666667 0.        ]\n",
      "Pred: good\t Actual: good \t Probability: [0. 0. 1. 0.]\n",
      "Pred: good\t Actual: good \t Probability: [0.33333333 0.         0.66666667 0.        ]\n",
      "None\n"
     ]
    }
   ],
   "source": [
    "print(evaluate('KNN',y_pred,y_test))"
   ]
  },
  {
   "cell_type": "code",
   "execution_count": 98,
   "id": "clear-blackjack",
   "metadata": {},
   "outputs": [
    {
     "data": {
      "image/png": "[encoded data removed]",
      "text/plain": [
       "<Figure size 432x288 with 1 Axes>"
      ]
     },
     "metadata": {
      "needs_background": "light"
     },
     "output_type": "display_data"
    }
   ],
   "source": [
    "accuracies = []\n",
    "for k in range(1,101):\n",
    "    KNN = KNeighborsClassifier(n_neighbors=k)\n",
    "    KNN.fit(x_train,y_train)\n",
    "    accuracies.append(KNN.score(x_test,y_test))\n",
    "    highest = max(accuracies)\n",
    "\n",
    "\n",
    "k_list = range(1,101)\n",
    "plt.plot(k_list,accuracies)\n",
    "plt.xlabel('k')\n",
    "plt.ylabel('Accuracy')\n",
    "plt.title('Model Classification Accuracy')\n",
    "plt.show()"
   ]
  },
  {
   "cell_type": "code",
   "execution_count": 99,
   "id": "female-jason",
   "metadata": {},
   "outputs": [],
   "source": [
    "#TODO get and possibly plot distances\n",
    "#TODO apply gridsearch?\n",
    "#TODO make probabilities more interpretable\n",
    "#TODO make eval function.. better\n",
    "#TODO add more EDA graphs for groupings and variable comparisons (stats)\n",
    "#TODO can this be self-tuning w/gridsearch?"
   ]
  }
 ],
 "metadata": {
  "interpreter": {
   "hash": "2d010e7d0251026eab2f8b4a3f1e17d9c5f8900e2e3c5048b7df43ce16f09665"
  },
  "kernelspec": {
   "display_name": "Python [conda env:KNN_CarClassifier]",
   "language": "python",
   "name": "python3"
  },
  "language_info": {
   "codemirror_mode": {
    "name": "ipython",
    "version": 3
   },
   "file_extension": ".py",
   "mimetype": "text/x-python",
   "name": "python",
   "nbconvert_exporter": "python",
   "pygments_lexer": "ipython3",
   "version": "3.8.5"
  }
 },
 "nbformat": 4,
 "nbformat_minor": 5
}
